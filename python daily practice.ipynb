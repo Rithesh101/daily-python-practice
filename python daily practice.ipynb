{
 "cells": [
  {
   "cell_type": "code",
   "execution_count": 24,
   "id": "4ac553fe-267d-46bb-8fc8-60af244f64fc",
   "metadata": {},
   "outputs": [
    {
     "name": "stdout",
     "output_type": "stream",
     "text": [
      "have fun you good boy\n"
     ]
    }
   ],
   "source": [
    "# Functions\n",
    "def fun():\n",
    "    print(\"have fun you good boy\")\n",
    "fun()"
   ]
  },
  {
   "cell_type": "code",
   "execution_count": 1,
   "id": "900d3a82-21aa-4a30-83ed-2acea36d0ce4",
   "metadata": {
    "scrolled": true
   },
   "outputs": [
    {
     "name": "stdin",
     "output_type": "stream",
     "text": [
      " 7\n"
     ]
    },
    {
     "name": "stdout",
     "output_type": "stream",
     "text": [
      "7\n",
      "6\n",
      "5\n",
      "4\n",
      "3\n",
      "2\n",
      "1\n"
     ]
    }
   ],
   "source": [
    "n = int(input())\n",
    "count = 0\n",
    "while(count<n):\n",
    "    print(n)\n",
    "    n = n-1\n",
    "count= count+1\n"
   ]
  },
  {
   "cell_type": "code",
   "execution_count": 31,
   "id": "eb8cab0c-08e5-438e-ace1-e036e1297d77",
   "metadata": {},
   "outputs": [
    {
     "name": "stdout",
     "output_type": "stream",
     "text": [
      "x 40\n",
      "y 50\n",
      "None\n"
     ]
    }
   ],
   "source": [
    "def myFun(x,y=50):\n",
    "    \"\"\"heck this thing\"\"\"\n",
    "    print(\"x\", x)\n",
    "    print(\"y\", y)\n",
    "print(myFun(40).__doc__)"
   ]
  },
  {
   "cell_type": "code",
   "execution_count": 35,
   "id": "2a973ef8-20f1-4905-9552-f369d0d41f12",
   "metadata": {},
   "outputs": [
    {
     "name": "stdout",
     "output_type": "stream",
     "text": [
      "addition=113, difference=63, multiplication=2200, division=3.52\n"
     ]
    }
   ],
   "source": [
    "def operation(a,b):\n",
    "    add = a+b\n",
    "    sub = a-b\n",
    "    mul = a*b\n",
    "    div = a/b\n",
    "    print(f\"addition={add}, difference={sub}, multiplication={mul}, division={div}\")\n",
    "operation(88,25)"
   ]
  },
  {
   "cell_type": "code",
   "execution_count": 43,
   "id": "479ccac8-5a63-4cfa-8a84-56aeda932a7c",
   "metadata": {},
   "outputs": [
    {
     "name": "stdin",
     "output_type": "stream",
     "text": [
      "enter the number you want to append:  45\n"
     ]
    },
    {
     "name": "stdout",
     "output_type": "stream",
     "text": [
      "[1, 5, 4, 7, 9, 45]\n",
      "[1, 4, 5, 7, 9, 45]\n"
     ]
    }
   ],
   "source": [
    "list = [1,5,4,7,9]\n",
    "a = int(input(\"enter the number you want to append: \"))\n",
    "\n",
    "list.append(a)\n",
    "print(list)\n",
    "list.sort()\n",
    "print(list)"
   ]
  },
  {
   "cell_type": "code",
   "execution_count": 3,
   "id": "2fd3ac8e-d9cf-44e6-8904-5e35ce7298bb",
   "metadata": {},
   "outputs": [
    {
     "name": "stdin",
     "output_type": "stream",
     "text": [
      " 2\n",
      " 2522\n"
     ]
    },
    {
     "name": "stdout",
     "output_type": "stream",
     "text": [
      "(2, 4, 2522, 6, 7)\n"
     ]
    }
   ],
   "source": [
    "my_tuple = (2,4,5,6,7)\n",
    "my_list = list(my_tuple)\n",
    "\n",
    "indexTOchange = int(input())\n",
    "value = int(input())\n",
    "my_list[indexTOchange] = value\n",
    "\n",
    "my_tuple = tuple(my_list)\n",
    "\n",
    "print(my_tuple)\n"
   ]
  },
  {
   "cell_type": "code",
   "execution_count": 3,
   "id": "59cf2f97-046d-4584-ae43-d42a331be15d",
   "metadata": {},
   "outputs": [
    {
     "name": "stdin",
     "output_type": "stream",
     "text": [
      " 96\n"
     ]
    },
    {
     "name": "stdout",
     "output_type": "stream",
     "text": [
      "{96, 1, 2, 4, 5, 6}\n"
     ]
    }
   ],
   "source": [
    "set1 = {1,2,4,5,6}\n",
    "a = int(input())\n",
    "set1.add(a)\n",
    "print(set1)"
   ]
  },
  {
   "cell_type": "code",
   "execution_count": 7,
   "id": "2454f073-6a09-4401-8790-45ee670bee34",
   "metadata": {},
   "outputs": [
    {
     "name": "stdin",
     "output_type": "stream",
     "text": [
      " ritesh\n"
     ]
    },
    {
     "name": "stdout",
     "output_type": "stream",
     "text": [
      "{'ritesh': 65, 'james': 52, 'hitu': 56, 'ithu': 55, 'kitur': 89}\n"
     ]
    }
   ],
   "source": [
    "dict1 = {'ritesh':10, 'james':52,'hitu':56,'ithu':55, 'kitur':89}\n",
    "name = input()\n",
    "dict1[name] = 65\n",
    "print(dict1)"
   ]
  },
  {
   "cell_type": "code",
   "execution_count": 43,
   "id": "7c3577a5-2183-4c3b-a6d3-35d367aed9a7",
   "metadata": {},
   "outputs": [
    {
     "name": "stdin",
     "output_type": "stream",
     "text": [
      " ritehsh\n"
     ]
    },
    {
     "name": "stdout",
     "output_type": "stream",
     "text": [
      "hshetir\n",
      "i\n",
      "e\n",
      "no.of vowels = 2\n"
     ]
    }
   ],
   "source": [
    "strd = input()\n",
    "print(strd[::-1])\n",
    "vowels = 'aeiouAEIOU'\n",
    "count = 0\n",
    "\n",
    "for l in strd:\n",
    "    if l in vowels:\n",
    "        print(l)\n",
    "        count+=1\n",
    "\n",
    "if count == 0:\n",
    "    print(\"no vowels\")\n",
    "else:\n",
    "    print(f\"no.of vowels = {count}\")"
   ]
  },
  {
   "cell_type": "code",
   "execution_count": 77,
   "id": "7fbe543d-4305-40c2-8166-63262bba708d",
   "metadata": {},
   "outputs": [
    {
     "name": "stdin",
     "output_type": "stream",
     "text": [
      "enter your name and city by giving a space rithesh hyderabad\n",
      "enter your age 34\n"
     ]
    },
    {
     "name": "stdout",
     "output_type": "stream",
     "text": [
      "{'name': 'rithesh', 'age': 34, 'city': 'hyderabad'}\n"
     ]
    }
   ],
   "source": [
    "a, c = input(\"enter your name and city by giving a space\").split()\n",
    "b = int(input(\"enter your age\"))\n",
    "if b>=18:\n",
    "    dict1 = {\"name\": a, \"age\": b, \"city\": c}\n",
    "    print(dict1)\n",
    "else:\n",
    "    print(\"you are not eligible\")"
   ]
  },
  {
   "cell_type": "code",
   "execution_count": 90,
   "id": "c85fa370-9c5a-455b-a578-0ef36ee6ddb1",
   "metadata": {},
   "outputs": [
    {
     "name": "stdout",
     "output_type": "stream",
     "text": [
      "[3, -1, 2, 0.5]\n"
     ]
    }
   ],
   "source": [
    "def operations(a,b):\n",
    "    return a+b,a-b,a*b,a/b\n",
    "\n",
    "add,sub,mul,div = operations(1,2)\n",
    "list1 = [add, sub, mul, div]\n",
    "print(list1)\n"
   ]
  },
  {
   "cell_type": "code",
   "execution_count": 21,
   "id": "eeeed010-bb1a-4db3-969f-354ead22c982",
   "metadata": {},
   "outputs": [
    {
     "name": "stdin",
     "output_type": "stream",
     "text": [
      "Enter a number:  4\n"
     ]
    },
    {
     "name": "stdout",
     "output_type": "stream",
     "text": [
      "4 is already in the set, skipping...\n"
     ]
    },
    {
     "name": "stdin",
     "output_type": "stream",
     "text": [
      "Enter a number:  6\n"
     ]
    },
    {
     "name": "stdout",
     "output_type": "stream",
     "text": [
      "Updated set: {1, 2, 3, 4, 5, 6}\n"
     ]
    },
    {
     "name": "stdin",
     "output_type": "stream",
     "text": [
      "Enter a number:  9\n"
     ]
    },
    {
     "name": "stdout",
     "output_type": "stream",
     "text": [
      "Updated set: {1, 2, 3, 4, 5, 6, 9}\n"
     ]
    },
    {
     "name": "stdin",
     "output_type": "stream",
     "text": [
      "Enter a number:  12\n"
     ]
    },
    {
     "name": "stdout",
     "output_type": "stream",
     "text": [
      "Updated set: {1, 2, 3, 4, 5, 6, 9, 12}\n"
     ]
    },
    {
     "name": "stdin",
     "output_type": "stream",
     "text": [
      "Enter a number:  45\n"
     ]
    },
    {
     "name": "stdout",
     "output_type": "stream",
     "text": [
      "Updated set: {1, 2, 3, 4, 5, 6, 9, 12, 45}\n"
     ]
    },
    {
     "name": "stdin",
     "output_type": "stream",
     "text": [
      "Enter a number:  14\n"
     ]
    },
    {
     "name": "stdout",
     "output_type": "stream",
     "text": [
      "Updated set: {1, 2, 3, 4, 5, 6, 9, 12, 14, 45}\n"
     ]
    }
   ],
   "source": [
    "set1 = {1, 2, 3, 4, 5}\n",
    "while len(set1) < 10:\n",
    "    a = int(input(\"Enter a number: \"))\n",
    "    if a in set1:\n",
    "        print(f\"{a} is already in the set, skipping...\")\n",
    "        continue\n",
    "    set1.add(a)\n",
    "    print(f\"Updated set: {set1}\")\n"
   ]
  },
  {
   "cell_type": "code",
   "execution_count": null,
   "id": "3cc981ed-2e5d-4324-b82a-ce741c526bd5",
   "metadata": {},
   "outputs": [],
   "source": []
  }
 ],
 "metadata": {
  "kernelspec": {
   "display_name": "Python 3 (ipykernel)",
   "language": "python",
   "name": "python3"
  },
  "language_info": {
   "codemirror_mode": {
    "name": "ipython",
    "version": 3
   },
   "file_extension": ".py",
   "mimetype": "text/x-python",
   "name": "python",
   "nbconvert_exporter": "python",
   "pygments_lexer": "ipython3",
   "version": "3.11.7"
  }
 },
 "nbformat": 4,
 "nbformat_minor": 5
}
