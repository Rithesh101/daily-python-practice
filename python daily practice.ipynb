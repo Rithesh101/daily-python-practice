{
 "cells": [
  {
   "cell_type": "code",
   "execution_count": 24,
   "id": "4ac553fe-267d-46bb-8fc8-60af244f64fc",
   "metadata": {},
   "outputs": [
    {
     "name": "stdout",
     "output_type": "stream",
     "text": [
      "have fun you good boy\n"
     ]
    }
   ],
   "source": [
    "# Functions\n",
    "def fun():\n",
    "    print(\"have fun you good boy\")\n",
    "fun()"
   ]
  },
  {
   "cell_type": "code",
   "execution_count": 1,
   "id": "900d3a82-21aa-4a30-83ed-2acea36d0ce4",
   "metadata": {
    "scrolled": true
   },
   "outputs": [
    {
     "name": "stdin",
     "output_type": "stream",
     "text": [
      " 7\n"
     ]
    },
    {
     "name": "stdout",
     "output_type": "stream",
     "text": [
      "7\n",
      "6\n",
      "5\n",
      "4\n",
      "3\n",
      "2\n",
      "1\n"
     ]
    }
   ],
   "source": [
    "n = int(input())\n",
    "count = 0\n",
    "while(count<n):\n",
    "    print(n)\n",
    "    n = n-1\n",
    "count= count+1\n"
   ]
  },
  {
   "cell_type": "code",
   "execution_count": 31,
   "id": "eb8cab0c-08e5-438e-ace1-e036e1297d77",
   "metadata": {},
   "outputs": [
    {
     "name": "stdout",
     "output_type": "stream",
     "text": [
      "x 40\n",
      "y 50\n",
      "None\n"
     ]
    }
   ],
   "source": [
    "def myFun(x,y=50):\n",
    "    \"\"\"heck this thing\"\"\"\n",
    "    print(\"x\", x)\n",
    "    print(\"y\", y)\n",
    "print(myFun(40).__doc__)"
   ]
  },
  {
   "cell_type": "code",
   "execution_count": 35,
   "id": "2a973ef8-20f1-4905-9552-f369d0d41f12",
   "metadata": {},
   "outputs": [
    {
     "name": "stdout",
     "output_type": "stream",
     "text": [
      "addition=113, difference=63, multiplication=2200, division=3.52\n"
     ]
    }
   ],
   "source": [
    "def operation(a,b):\n",
    "    add = a+b\n",
    "    sub = a-b\n",
    "    mul = a*b\n",
    "    div = a/b\n",
    "    print(f\"addition={add}, difference={sub}, multiplication={mul}, division={div}\")\n",
    "operation(88,25)"
   ]
  },
  {
   "cell_type": "code",
   "execution_count": 43,
   "id": "479ccac8-5a63-4cfa-8a84-56aeda932a7c",
   "metadata": {},
   "outputs": [
    {
     "name": "stdin",
     "output_type": "stream",
     "text": [
      "enter the number you want to append:  45\n"
     ]
    },
    {
     "name": "stdout",
     "output_type": "stream",
     "text": [
      "[1, 5, 4, 7, 9, 45]\n",
      "[1, 4, 5, 7, 9, 45]\n"
     ]
    }
   ],
   "source": [
    "list = [1,5,4,7,9]\n",
    "a = int(input(\"enter the number you want to append: \"))\n",
    "\n",
    "list.append(a)\n",
    "print(list)\n",
    "list.sort()\n",
    "print(list)"
   ]
  },
  {
   "cell_type": "code",
   "execution_count": 3,
   "id": "2fd3ac8e-d9cf-44e6-8904-5e35ce7298bb",
   "metadata": {},
   "outputs": [
    {
     "name": "stdin",
     "output_type": "stream",
     "text": [
      " 2\n",
      " 2522\n"
     ]
    },
    {
     "name": "stdout",
     "output_type": "stream",
     "text": [
      "(2, 4, 2522, 6, 7)\n"
     ]
    }
   ],
   "source": [
    "my_tuple = (2,4,5,6,7)\n",
    "my_list = list(my_tuple)\n",
    "\n",
    "indexTOchange = int(input())\n",
    "value = int(input())\n",
    "my_list[indexTOchange] = value\n",
    "\n",
    "my_tuple = tuple(my_list)\n",
    "\n",
    "print(my_tuple)\n"
   ]
  },
  {
   "cell_type": "code",
   "execution_count": 3,
   "id": "59cf2f97-046d-4584-ae43-d42a331be15d",
   "metadata": {},
   "outputs": [
    {
     "name": "stdin",
     "output_type": "stream",
     "text": [
      " 96\n"
     ]
    },
    {
     "name": "stdout",
     "output_type": "stream",
     "text": [
      "{96, 1, 2, 4, 5, 6}\n"
     ]
    }
   ],
   "source": [
    "set1 = {1,2,4,5,6}\n",
    "a = int(input())\n",
    "set1.add(a)\n",
    "print(set1)"
   ]
  },
  {
   "cell_type": "code",
   "execution_count": 7,
   "id": "2454f073-6a09-4401-8790-45ee670bee34",
   "metadata": {},
   "outputs": [
    {
     "name": "stdin",
     "output_type": "stream",
     "text": [
      " ritesh\n"
     ]
    },
    {
     "name": "stdout",
     "output_type": "stream",
     "text": [
      "{'ritesh': 65, 'james': 52, 'hitu': 56, 'ithu': 55, 'kitur': 89}\n"
     ]
    }
   ],
   "source": [
    "dict1 = {'ritesh':10, 'james':52,'hitu':56,'ithu':55, 'kitur':89}\n",
    "name = input()\n",
    "dict1[name] = 65\n",
    "print(dict1)"
   ]
  },
  {
   "cell_type": "code",
   "execution_count": 43,
   "id": "7c3577a5-2183-4c3b-a6d3-35d367aed9a7",
   "metadata": {},
   "outputs": [
    {
     "name": "stdin",
     "output_type": "stream",
     "text": [
      " ritehsh\n"
     ]
    },
    {
     "name": "stdout",
     "output_type": "stream",
     "text": [
      "hshetir\n",
      "i\n",
      "e\n",
      "no.of vowels = 2\n"
     ]
    }
   ],
   "source": [
    "strd = input()\n",
    "print(strd[::-1])\n",
    "vowels = 'aeiouAEIOU'\n",
    "count = 0\n",
    "\n",
    "for l in strd:\n",
    "    if l in vowels:\n",
    "        print(l)\n",
    "        count+=1\n",
    "\n",
    "if count == 0:\n",
    "    print(\"no vowels\")\n",
    "else:\n",
    "    print(f\"no.of vowels = {count}\")"
   ]
  },
  {
   "cell_type": "code",
   "execution_count": 77,
   "id": "7fbe543d-4305-40c2-8166-63262bba708d",
   "metadata": {},
   "outputs": [
    {
     "name": "stdin",
     "output_type": "stream",
     "text": [
      "enter your name and city by giving a space rithesh hyderabad\n",
      "enter your age 34\n"
     ]
    },
    {
     "name": "stdout",
     "output_type": "stream",
     "text": [
      "{'name': 'rithesh', 'age': 34, 'city': 'hyderabad'}\n"
     ]
    }
   ],
   "source": [
    "a, c = input(\"enter your name and city by giving a space\").split()\n",
    "b = int(input(\"enter your age\"))\n",
    "if b>=18:\n",
    "    dict1 = {\"name\": a, \"age\": b, \"city\": c}\n",
    "    print(dict1)\n",
    "else:\n",
    "    print(\"you are not eligible\")"
   ]
  },
  {
   "cell_type": "code",
   "execution_count": 90,
   "id": "c85fa370-9c5a-455b-a578-0ef36ee6ddb1",
   "metadata": {},
   "outputs": [
    {
     "name": "stdout",
     "output_type": "stream",
     "text": [
      "[3, -1, 2, 0.5]\n"
     ]
    }
   ],
   "source": [
    "def operations(a,b):\n",
    "    return a+b,a-b,a*b,a/b\n",
    "\n",
    "add,sub,mul,div = operations(1,2)\n",
    "list1 = [add, sub, mul, div]\n",
    "print(list1)\n"
   ]
  },
  {
   "cell_type": "code",
   "execution_count": 21,
   "id": "eeeed010-bb1a-4db3-969f-354ead22c982",
   "metadata": {},
   "outputs": [
    {
     "name": "stdin",
     "output_type": "stream",
     "text": [
      "Enter a number:  4\n"
     ]
    },
    {
     "name": "stdout",
     "output_type": "stream",
     "text": [
      "4 is already in the set, skipping...\n"
     ]
    },
    {
     "name": "stdin",
     "output_type": "stream",
     "text": [
      "Enter a number:  6\n"
     ]
    },
    {
     "name": "stdout",
     "output_type": "stream",
     "text": [
      "Updated set: {1, 2, 3, 4, 5, 6}\n"
     ]
    },
    {
     "name": "stdin",
     "output_type": "stream",
     "text": [
      "Enter a number:  9\n"
     ]
    },
    {
     "name": "stdout",
     "output_type": "stream",
     "text": [
      "Updated set: {1, 2, 3, 4, 5, 6, 9}\n"
     ]
    },
    {
     "name": "stdin",
     "output_type": "stream",
     "text": [
      "Enter a number:  12\n"
     ]
    },
    {
     "name": "stdout",
     "output_type": "stream",
     "text": [
      "Updated set: {1, 2, 3, 4, 5, 6, 9, 12}\n"
     ]
    },
    {
     "name": "stdin",
     "output_type": "stream",
     "text": [
      "Enter a number:  45\n"
     ]
    },
    {
     "name": "stdout",
     "output_type": "stream",
     "text": [
      "Updated set: {1, 2, 3, 4, 5, 6, 9, 12, 45}\n"
     ]
    },
    {
     "name": "stdin",
     "output_type": "stream",
     "text": [
      "Enter a number:  14\n"
     ]
    },
    {
     "name": "stdout",
     "output_type": "stream",
     "text": [
      "Updated set: {1, 2, 3, 4, 5, 6, 9, 12, 14, 45}\n"
     ]
    }
   ],
   "source": [
    "set1 = {1, 2, 3, 4, 5}\n",
    "while len(set1) < 10:\n",
    "    a = int(input(\"Enter a number: \"))\n",
    "    if a in set1:\n",
    "        print(f\"{a} is already in the set, skipping...\")\n",
    "        continue\n",
    "    set1.add(a)\n",
    "    print(f\"Updated set: {set1}\")\n"
   ]
  },
  {
   "cell_type": "code",
   "execution_count": 1,
   "id": "3cc981ed-2e5d-4324-b82a-ce741c526bd5",
   "metadata": {},
   "outputs": [
    {
     "name": "stdout",
     "output_type": "stream",
     "text": [
      "1 2 "
     ]
    }
   ],
   "source": [
    "num =1 \n",
    "while num<5:\n",
    "    print(num, end= \" \")\n",
    "    num +=1\n",
    "    if num==3:\n",
    "        break"
   ]
  },
  {
   "cell_type": "code",
   "execution_count": 7,
   "id": "93f182fa-5572-4de1-bc72-6cb1ed6c978e",
   "metadata": {},
   "outputs": [
    {
     "name": "stdin",
     "output_type": "stream",
     "text": [
      " 5\n",
      " 5\n"
     ]
    },
    {
     "name": "stdout",
     "output_type": "stream",
     "text": [
      "(10, 0, 25, 1.0)\n"
     ]
    }
   ],
   "source": [
    "a= int(input())\n",
    "b = int(input())\n",
    "def arith(a,b):\n",
    "    return a+b, a-b,a*b, a/b\n",
    "add, diff, mul, div = arith(a,b)\n",
    "my_tuple = (add, diff, mul, div)\n",
    "print(my_tuple)\n",
    "    "
   ]
  },
  {
   "cell_type": "code",
   "execution_count": 1,
   "id": "2c484552-4e56-4c9e-8547-11f5147a808a",
   "metadata": {},
   "outputs": [
    {
     "name": "stdin",
     "output_type": "stream",
     "text": [
      " ritesh\n"
     ]
    },
    {
     "name": "stdout",
     "output_type": "stream",
     "text": [
      "Good morning! ritesh\n"
     ]
    },
    {
     "data": {
      "text/plain": [
       "' chatgpt code:\\ndef greet(name, msg=\"Good morning!\"):\\n    return f\"{msg} {name}\"\\n\\n# Test\\nprint(greet(name))  # Default greeting\\nprint(greet(name, \"How are you today?\"))  # Custom greeting  '"
      ]
     },
     "execution_count": 1,
     "metadata": {},
     "output_type": "execute_result"
    }
   ],
   "source": [
    "name = input()\n",
    "def greet(name):\n",
    "    return \"Good morning!\"\n",
    "\n",
    "print(f\"{greet(name)} {name}\")\n",
    "\n",
    "\n",
    "\"\"\" ChatGPT code:\n",
    "def greet(name, msg=\"Good morning!\"):\n",
    "    return f\"{msg} {name}\"\n",
    "\n",
    "# Test\n",
    "print(greet(name))  # Default greeting\n",
    "print(greet(name, \"How are you today?\"))  # Custom greeting  \"\"\"\n"
   ]
  },
  {
   "cell_type": "code",
   "execution_count": 3,
   "id": "49423ecf-d074-4d95-94d5-e0db61c033a6",
   "metadata": {},
   "outputs": [
    {
     "name": "stdout",
     "output_type": "stream",
     "text": [
      "false\n"
     ]
    },
    {
     "data": {
      "text/plain": [
       "' # chatgpt code:\\ndef is_palindrome(input1):\\n    rev = input1[::-1]\\n    return rev == input1\\n\\n# Test\\nprint(is_palindrome(\"radar\"))  # Output: True\\nprint(is_palindrome(\"hello\"))  # Output: False  '"
      ]
     },
     "execution_count": 3,
     "metadata": {},
     "output_type": "execute_result"
    }
   ],
   "source": [
    "def is_palindrome(input1):\n",
    "    rev = input1[::-1]\n",
    "    if rev == input1:\n",
    "        print(\"true\")\n",
    "    else:\n",
    "        print(\"false\")\n",
    "is_palindrome(\"hello\")\n",
    "\n",
    "\n",
    "\"\"\" # chatgpt code:\n",
    "def is_palindrome(input1):\n",
    "    rev = input1[::-1]\n",
    "    return rev == input1\n",
    "\n",
    "# Test\n",
    "print(is_palindrome(\"radar\"))  # Output: True\n",
    "print(is_palindrome(\"hello\"))  # Output: False  \"\"\"\n"
   ]
  },
  {
   "cell_type": "code",
   "execution_count": 41,
   "id": "d2a7d495-b808-4eda-bfe1-d4409888d1cb",
   "metadata": {},
   "outputs": [
    {
     "name": "stdout",
     "output_type": "stream",
     "text": [
      "720\n"
     ]
    }
   ],
   "source": [
    "def factorial(n):\n",
    "    result = 1\n",
    "    while n>1:\n",
    "        result = result * n\n",
    "        n = n-1\n",
    "    return result\n",
    "print(factorial(6))"
   ]
  },
  {
   "cell_type": "code",
   "execution_count": 3,
   "id": "99d5d135-160b-4c00-92da-2fbcf0c60f17",
   "metadata": {},
   "outputs": [
    {
     "name": "stdout",
     "output_type": "stream",
     "text": [
      "10\n"
     ]
    }
   ],
   "source": [
    "def sum_of_digits(n):\n",
    "    sum = 0\n",
    "    while n>0: \n",
    "      rem = n % 10 #gives last digit\n",
    "      n = n//10\n",
    "      sum = sum + rem\n",
    "    return sum\n",
    "print(sum_of_digits(1234))"
   ]
  },
  {
   "cell_type": "code",
   "execution_count": 43,
   "id": "ca163ddc-c9ac-4882-a7f0-cd9973164479",
   "metadata": {},
   "outputs": [
    {
     "name": "stdout",
     "output_type": "stream",
     "text": [
      "4\n"
     ]
    }
   ],
   "source": [
    "rem = 1234%10\n",
    "print(rem)"
   ]
  },
  {
   "cell_type": "code",
   "execution_count": 36,
   "id": "53545c74-808f-4a76-a079-6f37ba88c729",
   "metadata": {},
   "outputs": [
    {
     "name": "stdin",
     "output_type": "stream",
     "text": [
      " rithesh\n",
      " 20\n"
     ]
    },
    {
     "name": "stdout",
     "output_type": "stream",
     "text": [
      "rithesh\n",
      "20\n"
     ]
    }
   ],
   "source": [
    "name = input()\n",
    "age = input()\n",
    "file = open(\"user_data.txt\", \"w\")\n",
    "file.write(name + \"\\n\")\n",
    "file.write(age)\n",
    "file.close()\n",
    "file = open(\"user_data.txt\", \"r\")\n",
    "content= file.read()\n",
    "print(content)\n",
    "file.close()"
   ]
  },
  {
   "cell_type": "code",
   "execution_count": 9,
   "id": "7aaee8f7-1a50-405d-91a9-a7565afe27e5",
   "metadata": {},
   "outputs": [
    {
     "name": "stdout",
     "output_type": "stream",
     "text": [
      "Sorry file not found\n"
     ]
    }
   ],
   "source": [
    "try:\n",
    "    file = open(\"rithesh.txt\", \"r\")\n",
    "    content = file.read()\n",
    "    print(content)\n",
    "    file.close()\n",
    "except FileNotFoundError:\n",
    "    print(\"Sorry file not found\")\n",
    "finally:\n",
    "    if file in locals():\n",
    "        file.close()"
   ]
  },
  {
   "cell_type": "code",
   "execution_count": 38,
   "id": "44477477-0e34-4553-8977-a65dd6cc77f1",
   "metadata": {},
   "outputs": [
    {
     "name": "stdout",
     "output_type": "stream",
     "text": [
      "no.of words = 18\n"
     ]
    }
   ],
   "source": [
    "try:\n",
    "    count = 0\n",
    "    file = open(\"story.txt\", \"r\")\n",
    "    for line in file:\n",
    "        words = line.split()\n",
    "        count = count + len(words)\n",
    "    print(f\"no.of words = {count}\")\n",
    "    file.close()\n",
    "except Exception as e:\n",
    "    print(\"something went wrong\" ,e)\n",
    "    "
   ]
  },
  {
   "cell_type": "code",
   "execution_count": 42,
   "id": "9c87cd53-e273-4c02-b74d-7f1612b6ee25",
   "metadata": {},
   "outputs": [
    {
     "name": "stdin",
     "output_type": "stream",
     "text": [
      " 555\n",
      " 8\n"
     ]
    },
    {
     "name": "stdout",
     "output_type": "stream",
     "text": [
      "69.375\n"
     ]
    },
    {
     "data": {
      "text/plain": [
       "' or \\nexcept ZeroDivisionError:\\nprint(\"same thing\") '"
      ]
     },
     "execution_count": 42,
     "metadata": {},
     "output_type": "execute_result"
    }
   ],
   "source": [
    "a = int(input())\n",
    "b = int(input())\n",
    "try:\n",
    "    div = a/b\n",
    "    print(div)\n",
    "except:\n",
    "    if b==0:\n",
    "        print(\"denominator should be greater than Zero\")\n",
    "\"\"\" or \n",
    "except ZeroDivisionError:\n",
    "print(\"same thing\") \"\"\""
   ]
  },
  {
   "cell_type": "code",
   "execution_count": 15,
   "id": "eba9eeef-6bb9-4c09-9c87-349452461f88",
   "metadata": {},
   "outputs": [
    {
     "name": "stdout",
     "output_type": "stream",
     "text": [
      "2024-10-20 00:45:42.1448402024-10-20 00:46:42.958998\n",
      "2024-10-20 00:46:52.363515\n",
      "2024-10-20 00:46:55.824579\n",
      "2024-10-20 00:46:59.290998\n",
      "\n"
     ]
    }
   ],
   "source": [
    "from datetime import datetime\n",
    "\n",
    "today = str(datetime.now())\n",
    "\n",
    "file = open(\"log.txt\", \"a\")\n",
    "file.write(today + \"\\n\")\n",
    "file.close()\n",
    "file = open(\"log.txt\", \"r\")\n",
    "content = file.read()\n",
    "print(content)\n",
    "file.close()"
   ]
  },
  {
   "cell_type": "code",
   "execution_count": 11,
   "id": "27e5c781-b800-4914-85fb-861451ea98d6",
   "metadata": {},
   "outputs": [
    {
     "name": "stdin",
     "output_type": "stream",
     "text": [
      "Enter your first name and last name: rithesh vanjari\n",
      " 2004\n"
     ]
    },
    {
     "name": "stdout",
     "output_type": "stream",
     "text": [
      "Hello rithesh vanjari, you are 20 years old!\n"
     ]
    }
   ],
   "source": [
    "first_name, last_name = map(str, input(\"Enter your first name and last name:\").split())\n",
    "birth_year = int(input())\n",
    "age = 2024 - birth_year\n",
    "print(f\"Hello {first_name} {last_name}, you are {age} years old!\")"
   ]
  },
  {
   "cell_type": "code",
   "execution_count": 21,
   "id": "7a32f3dc-2d19-4c20-bae1-fb198cf015ca",
   "metadata": {},
   "outputs": [
    {
     "name": "stdout",
     "output_type": "stream",
     "text": [
      "{'sum': 3, 'diff': -1, 'prod': 2, 'div': 0.5}\n"
     ]
    }
   ],
   "source": [
    "def operations(a,b):\n",
    "    sum = a+b\n",
    "    diff =a-b\n",
    "    prod = a*b\n",
    "    div =a/b\n",
    "    return {\"sum\": sum, \"diff\":diff, \"prod\":a*b, \"div\":div}\n",
    "    \n",
    "dict1 = operations(1,2)\n",
    "print(dict1)"
   ]
  },
  {
   "cell_type": "code",
   "execution_count": 33,
   "id": "031618db-31e9-4dc1-a8f8-fb2fa62f3124",
   "metadata": {},
   "outputs": [
    {
     "name": "stdin",
     "output_type": "stream",
     "text": [
      " 1\n"
     ]
    },
    {
     "name": "stdout",
     "output_type": "stream",
     "text": [
      "1\n"
     ]
    }
   ],
   "source": [
    "n = int(input())\n",
    "if (n%3 ==0 and n%5 ==0):\n",
    "    print(\"FizzBuzz\")\n",
    "elif (n%3 == 0):\n",
    "    print(\"Fizz\")\n",
    "elif (n%5 ==0):\n",
    "    print(\"Buzz\")\n",
    "else:\n",
    "    print(n)\n",
    "    "
   ]
  },
  {
   "cell_type": "code",
   "execution_count": 22,
   "id": "ffa14a08-478c-4cb3-af87-32abba433cd4",
   "metadata": {},
   "outputs": [
    {
     "name": "stdin",
     "output_type": "stream",
     "text": [
      " 1\n",
      " 2\n",
      " 3\n",
      " 4\n",
      " 5\n",
      " 6\n"
     ]
    },
    {
     "name": "stdout",
     "output_type": "stream",
     "text": [
      "2\n",
      "4\n",
      "6\n"
     ]
    }
   ],
   "source": [
    "list1 = []\n",
    "count = 0\n",
    "while(count<6):\n",
    "    n= int(input())\n",
    "    list1.append(n)\n",
    "    count+=1\n",
    "for i in list1:\n",
    "    if i%2==0:\n",
    "        print(i)"
   ]
  },
  {
   "cell_type": "code",
   "execution_count": 34,
   "id": "aa8d629a-705f-43d3-9dca-41a959b866bb",
   "metadata": {},
   "outputs": [
    {
     "name": "stdout",
     "output_type": "stream",
     "text": [
      "1\n",
      "2\n",
      "43\n",
      "4\n",
      "5\n",
      "\n"
     ]
    }
   ],
   "source": [
    "tuple1 = (1,2,43,4,5,)\n",
    "file = open(\"zirrr.txt\", \"w\")\n",
    "for i in tuple1:\n",
    "    i = str(i)\n",
    "    file.write(i + \"\\n\")\n",
    "file.close()\n",
    "file = open(\"zirrr.txt\", \"r\")\n",
    "content = file.read()\n",
    "print(content)"
   ]
  },
  {
   "cell_type": "code",
   "execution_count": 3,
   "id": "6fd25abe-0525-4d78-b6fb-99dcef1926ff",
   "metadata": {},
   "outputs": [
    {
     "name": "stdin",
     "output_type": "stream",
     "text": [
      " 1\n"
     ]
    },
    {
     "name": "stdout",
     "output_type": "stream",
     "text": [
      "{1}\n"
     ]
    },
    {
     "name": "stdin",
     "output_type": "stream",
     "text": [
      " 2\n"
     ]
    },
    {
     "name": "stdout",
     "output_type": "stream",
     "text": [
      "{1, 2}\n"
     ]
    },
    {
     "name": "stdin",
     "output_type": "stream",
     "text": [
      " 54\n"
     ]
    },
    {
     "name": "stdout",
     "output_type": "stream",
     "text": [
      "{1, 2, 54}\n"
     ]
    },
    {
     "name": "stdin",
     "output_type": "stream",
     "text": [
      " 4\n"
     ]
    },
    {
     "name": "stdout",
     "output_type": "stream",
     "text": [
      "{1, 2, 4, 54}\n"
     ]
    },
    {
     "name": "stdin",
     "output_type": "stream",
     "text": [
      " 6\n"
     ]
    },
    {
     "name": "stdout",
     "output_type": "stream",
     "text": [
      "{1, 2, 4, 6, 54}\n"
     ]
    },
    {
     "name": "stdin",
     "output_type": "stream",
     "text": [
      " 8\n"
     ]
    },
    {
     "name": "stdout",
     "output_type": "stream",
     "text": [
      "nope does not exist\n"
     ]
    }
   ],
   "source": [
    "set1 = {1}\n",
    "count = 0\n",
    "while (count < 5):\n",
    "    n = int(input())\n",
    "    set1.add(n)\n",
    "    count +=1\n",
    "    print(set1)\n",
    "a = int(input())\n",
    "if a in set1:\n",
    "    print(\"it exists\")\n",
    "else:\n",
    "    print(\"nope does not exist\")"
   ]
  },
  {
   "cell_type": "code",
   "execution_count": 23,
   "id": "d20066d6-eb87-402b-837f-e7c1bb926ca4",
   "metadata": {},
   "outputs": [
    {
     "name": "stdin",
     "output_type": "stream",
     "text": [
      " ritehsh\n"
     ]
    },
    {
     "name": "stdout",
     "output_type": "stream",
     "text": [
      "False\n"
     ]
    }
   ],
   "source": [
    "a = input()\n",
    "def palindrome(a):\n",
    "    rev = a[::-1]\n",
    "    return rev == a\n",
    "   \n",
    "print(palindrome(a))\n",
    "    "
   ]
  },
  {
   "cell_type": "code",
   "execution_count": null,
   "id": "e91772e4-b172-48cb-a99d-14849b6d0701",
   "metadata": {},
   "outputs": [],
   "source": []
  }
 ],
 "metadata": {
  "kernelspec": {
   "display_name": "Python 3 (ipykernel)",
   "language": "python",
   "name": "python3"
  },
  "language_info": {
   "codemirror_mode": {
    "name": "ipython",
    "version": 3
   },
   "file_extension": ".py",
   "mimetype": "text/x-python",
   "name": "python",
   "nbconvert_exporter": "python",
   "pygments_lexer": "ipython3",
   "version": "3.11.7"
  }
 },
 "nbformat": 4,
 "nbformat_minor": 5
}
